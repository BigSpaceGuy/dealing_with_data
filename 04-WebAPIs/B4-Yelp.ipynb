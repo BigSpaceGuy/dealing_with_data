{
 "cells": [
  {
   "cell_type": "code",
   "execution_count": null,
   "metadata": {},
   "outputs": [],
   "source": [
    "import requests\n",
    "\n",
    "# Go to https://www.yelp.com/developers/\n",
    "# create an app, and get the key\n",
    "key = 'iI4dsdXt-g13ESGVicCEP7g8svwE657yNKQtQx0UXtrjgteJuPjddz_RYf92YIWiUJxpMx_To53E2hXoMQmnpOSc3Jws0L7SAQTH2Qdno9XFlOih236mUlx6AIEhW3Yx'\n",
    "auth_header = {'Authorization': 'Bearer ' + key}\n",
    "\n",
    "# We demo the \"Business Search\" part of the Yelp API\n",
    "# See https://www.yelp.com/developers/documentation/v3/business_search \n",
    "# for documentation\n",
    "url = 'https://api.yelp.com/v3/businesses/search'\n",
    "\n",
    "# We search for \"Village Taverna in New York\"\n",
    "# Check the documentation for other parameters\n",
    "parameters = {\n",
    "    \"term\": \"village taverna\",\n",
    "    \"location\": \"new york, ny\",\n",
    "    \"limit\": 50\n",
    "}\n",
    "\n",
    "# Issue the authenticated request\n",
    "resp = requests.get(url, headers=auth_header, params=parameters)\n",
    "data = resp.json()"
   ]
  },
  {
   "cell_type": "code",
   "execution_count": null,
   "metadata": {},
   "outputs": [],
   "source": [
    "data"
   ]
  },
  {
   "cell_type": "code",
   "execution_count": null,
   "metadata": {},
   "outputs": [],
   "source": [
    "# We get back the answer. It contains three keys\n",
    "# The main one is the \"business\", which contains a list of the results\n",
    "data.keys()"
   ]
  },
  {
   "cell_type": "code",
   "execution_count": null,
   "metadata": {},
   "outputs": [],
   "source": [
    "# We can put the results directly into a dataframe\n",
    "# The issue is that some columns (e.g location) are composite and\n",
    "# instead of containing values, the cells contain *dictionaries*\n",
    "import pandas as pd\n",
    "df = pd.DataFrame(data['businesses'])\n",
    "df.head(5)"
   ]
  },
  {
   "cell_type": "code",
   "execution_count": null,
   "metadata": {},
   "outputs": [],
   "source": [
    "# In principle, the json_normalize command should be \n",
    "# able to parse the JSON response and create a dataframe\n",
    "# http://pandas.pydata.org/pandas-docs/version/0.22/generated/pandas.io.json.json_normalize.html\n",
    "\n",
    "# For some reason (to be debugged) it does not work. \n"
   ]
  },
  {
   "cell_type": "code",
   "execution_count": null,
   "metadata": {},
   "outputs": [],
   "source": [
    "import pandas as pd\n",
    "df = pd.DataFrame(data['businesses'])\n",
    "\n",
    "# We take the dictionaries in the location and coordinates columns\n",
    "# and create new dataframes for both of them, with each element of the dictionary\n",
    "# now being a column\n",
    "address_df = df.location.apply(pd.Series)\n",
    "coordinates_df = df.coordinates.apply(pd.Series)\n",
    "\n",
    "# We remove location and coordinates from the original dataframe\n",
    "df.drop('location', axis='columns', inplace=True)\n",
    "df.drop('coordinates', axis='columns', inplace=True)\n",
    "\n",
    "# We also drop columns that we do not need\n",
    "df.drop('categories', axis='columns', inplace=True)\n",
    "df.drop('transactions', axis='columns', inplace=True)\n",
    "df.drop('image_url', axis='columns', inplace=True)\n",
    "\n",
    "# Put together the original dataframe, the addresses, and the coordinates dataframes\n",
    "# (We concatenate the 3 dataframes bu putting them all next to each other)\n",
    "new_df = pd.concat([df, address_df, coordinates_df], axis='columns')\n",
    "new_df\n"
   ]
  }
 ],
 "metadata": {
  "kernelspec": {
   "display_name": "Python 3",
   "language": "python",
   "name": "python3"
  },
  "language_info": {
   "codemirror_mode": {
    "name": "ipython",
    "version": 3
   },
   "file_extension": ".py",
   "mimetype": "text/x-python",
   "name": "python",
   "nbconvert_exporter": "python",
   "pygments_lexer": "ipython3",
   "version": "3.6.7"
  }
 },
 "nbformat": 4,
 "nbformat_minor": 2
}
