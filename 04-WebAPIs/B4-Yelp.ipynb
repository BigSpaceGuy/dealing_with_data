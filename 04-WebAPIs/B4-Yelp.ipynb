{
  "nbformat": 4,
  "nbformat_minor": 0,
  "metadata": {
    "kernelspec": {
      "display_name": "Python 3",
      "language": "python",
      "name": "python3"
    },
    "language_info": {
      "codemirror_mode": {
        "name": "ipython",
        "version": 3
      },
      "file_extension": ".py",
      "mimetype": "text/x-python",
      "name": "python",
      "nbconvert_exporter": "python",
      "pygments_lexer": "ipython3",
      "version": "3.6.7"
    },
    "colab": {
      "name": "B4-Yelp.ipynb",
      "provenance": []
    }
  },
  "cells": [
    {
      "cell_type": "code",
      "metadata": {
        "id": "VenA9eKOqoqu",
        "colab_type": "code",
        "colab": {}
      },
      "source": [
        "import requests\n",
        "\n",
        "# Go to https://www.yelp.com/developers/\n",
        "# create an app, and get the key\n",
        "key = 'iI4dsdXt-g13ESGVicCEP7g8svwE657yNKQtQx0UXtrjgteJuPjddz_RYf92YIWiUJxpMx_To53E2hXoMQmnpOSc3Jws0L7SAQTH2Qdno9XFlOih236mUlx6AIEhW3Yx'\n",
        "auth_header = {'Authorization': 'Bearer ' + key}\n",
        "\n",
        "# We demo the \"Business Search\" part of the Yelp API\n",
        "# See https://www.yelp.com/developers/documentation/v3/business_search \n",
        "# for documentation\n",
        "url = 'https://api.yelp.com/v3/businesses/search'\n",
        "\n",
        "# We search for \"Village Taverna in New York\"\n",
        "# Check the documentation for other parameters\n",
        "parameters = {\n",
        "    \"term\": \"village taverna\",\n",
        "    \"location\": \"new york, ny\",\n",
        "    \"limit\": 50\n",
        "}\n",
        "\n",
        "# Issue the authenticated request\n",
        "resp = requests.get(url, headers=auth_header, params=parameters)\n",
        "data = resp.json()"
      ],
      "execution_count": null,
      "outputs": []
    },
    {
      "cell_type": "code",
      "metadata": {
        "id": "QNyXMIsfqoqz",
        "colab_type": "code",
        "colab": {}
      },
      "source": [
        "data"
      ],
      "execution_count": null,
      "outputs": []
    },
    {
      "cell_type": "code",
      "metadata": {
        "id": "9WsiAauOqoq1",
        "colab_type": "code",
        "colab": {}
      },
      "source": [
        "# We get back the answer. It contains three keys\n",
        "# The main one is the \"business\", which contains a list of the results\n",
        "data.keys()"
      ],
      "execution_count": null,
      "outputs": []
    },
    {
      "cell_type": "code",
      "metadata": {
        "id": "Zvej2IKlqoq5",
        "colab_type": "code",
        "colab": {}
      },
      "source": [
        "# We can put the results directly into a dataframe\n",
        "# The issue is that some columns (e.g location) are composite and\n",
        "# instead of containing values, the cells contain *dictionaries*\n",
        "import pandas as pd\n",
        "df = pd.DataFrame(data['businesses'])\n",
        "df.head(5)"
      ],
      "execution_count": null,
      "outputs": []
    },
    {
      "cell_type": "code",
      "metadata": {
        "id": "HWdNXg-qqoq8",
        "colab_type": "code",
        "colab": {}
      },
      "source": [
        "# In principle, the json_normalize command should be \n",
        "# able to parse the JSON response and create a dataframe\n",
        "# https://pandas.pydata.org/pandas-docs/stable/reference/api/pandas.json_normalize.html\n",
        "\n",
        "df = pd.json_normalize(data['businesses'])\n",
        "\n",
        "# We also drop columns that we do not need\n",
        "df.drop('categories', axis='columns', inplace=True)\n",
        "df.drop('transactions', axis='columns', inplace=True)\n",
        "df.drop('image_url', axis='columns', inplace=True)\n",
        "df.drop('location.address2', axis='columns', inplace=True)\n",
        "df.drop('location.address3', axis='columns', inplace=True)\n",
        "df.drop('location.display_address', axis='columns', inplace=True)\n",
        "\n",
        "df"
      ],
      "execution_count": null,
      "outputs": []
    }
  ]
}