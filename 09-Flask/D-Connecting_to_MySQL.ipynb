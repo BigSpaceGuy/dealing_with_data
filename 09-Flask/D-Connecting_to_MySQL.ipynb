{
  "nbformat": 4,
  "nbformat_minor": 0,
  "metadata": {
    "anaconda-cloud": {},
    "kernelspec": {
      "display_name": "Python 3",
      "language": "python",
      "name": "python3"
    },
    "language_info": {
      "codemirror_mode": {
        "name": "ipython",
        "version": 3
      },
      "file_extension": ".py",
      "mimetype": "text/x-python",
      "name": "python",
      "nbconvert_exporter": "python",
      "pygments_lexer": "ipython3",
      "version": "3.6.6"
    },
    "colab": {
      "name": "D-Connecting_to_MySQL.ipynb",
      "provenance": []
    }
  },
  "cells": [
    {
      "cell_type": "markdown",
      "metadata": {
        "id": "SkZqhwkf8NUg",
        "colab_type": "text"
      },
      "source": [
        "# Creating of a Flask application showing Citibike stations\n",
        "\n",
        "\n",
        "In this segment we will create a basic app, where we will connect to the Citibike database, and display the list of stations. \n",
        "\n",
        "Let's remember first how to get data from the database."
      ]
    },
    {
      "cell_type": "code",
      "metadata": {
        "id": "O9o9NsaO8hMy",
        "colab_type": "code",
        "colab": {}
      },
      "source": [
        "!apt-get install python3-mysqldb\n",
        "!pip install sqlalchemy sql_magic\n",
        "!pip install flask==0.12.2\n",
        "!pip install flask-ngrok"
      ],
      "execution_count": 0,
      "outputs": []
    },
    {
      "cell_type": "code",
      "metadata": {
        "id": "EkIL-uRK8NUi",
        "colab_type": "code",
        "colab": {}
      },
      "source": [
        "# This code creates a connection to the database\n",
        "from sqlalchemy import create_engine\n",
        "\n",
        "conn_string = 'mysql://{user}:{password}@{host}/{db}?charset={encoding}'.format(\n",
        "    host = 'db.ipeirotis.org', \n",
        "    user = 'student',\n",
        "    db = 'citibike_fall2017',\n",
        "    password = 'dwdstudent2015',\n",
        "    encoding = 'utf8mb4')\n",
        "\n",
        "engine = create_engine(conn_string)\n",
        "con = engine.connect()"
      ],
      "execution_count": 0,
      "outputs": []
    },
    {
      "cell_type": "code",
      "metadata": {
        "id": "HZ8BAoiy8NUm",
        "colab_type": "code",
        "colab": {},
        "outputId": "6b5843c0-77bc-44f5-e75e-5193b7bafa45"
      },
      "source": [
        "# cur = con.cursor(mdb.cursors.DictCursor)\n",
        "stations = con.execute(\"SELECT DISTINCT id, name, capacity, lat, lon  FROM status_fall2017 LIMIT 5\")\n",
        "\n",
        "for s in stations:\n",
        "    print(s)\n",
        "    print(\"-----\")"
      ],
      "execution_count": 0,
      "outputs": [
        {
          "output_type": "stream",
          "text": [
            "(72, 'W 52 St & 11 Ave', 39, 40.7673, -73.9939)\n",
            "-----\n",
            "(79, 'Franklin St & W Broadway', 33, 40.7191, -74.0067)\n",
            "-----\n",
            "(82, 'St James Pl & Pearl St', 27, 40.7112, -74.0002)\n",
            "-----\n",
            "(83, 'Atlantic Ave & Fort Greene Pl', 62, 40.6838, -73.9763)\n",
            "-----\n",
            "(116, 'W 17 St & 8 Ave', 39, 40.7418, -74.0015)\n",
            "-----\n"
          ],
          "name": "stdout"
        }
      ]
    },
    {
      "cell_type": "markdown",
      "metadata": {
        "id": "p886T8018NUr",
        "colab_type": "text"
      },
      "source": [
        "## Displaying the database results in HTML"
      ]
    },
    {
      "cell_type": "markdown",
      "metadata": {
        "id": "Uiq-FDaN8NUs",
        "colab_type": "text"
      },
      "source": [
        "Now, we are going to display these data in HTML page in a table format. An HTML table is defined with the [`<table>` tag](https://www.w3schools.com/html/html_tables.asp). Each table row is defined with the `<tr>` tag. A table header is defined with the `<th>` tag. By default, table headings are bold and centered. A table data/cell is defined with the `<td>` tag. \n"
      ]
    },
    {
      "cell_type": "markdown",
      "metadata": {
        "id": "EWvtZkQM8NUt",
        "colab_type": "text"
      },
      "source": [
        "Let's transfer the code for records retrieving to the `\"webserver.py\"` file:\n",
        "\n",
        "```python\n",
        "from flask import Flask, render_template\n",
        "from flask_ngrok import run_with_ngrok\n",
        "from sqlalchemy import create_engine\n",
        "\n",
        "app = Flask(__name__, template_folder = '/conntent/gdrive/templates')\n",
        "run_with_ngrok(app)\n",
        "    \n",
        "@app.route('/citibike')\n",
        "def citibike_stations():\n",
        "    \n",
        "    conn_string = 'mysql://{user}:{password}@{host}/{db}?charset={encoding}'.format(\n",
        "        host = 'db.ipeirotis.org', \n",
        "        user = 'student',\n",
        "        db = 'citibike_fall2017',\n",
        "        password = 'dwdstudent2015',\n",
        "        encoding = 'utf8mb4')\n",
        "\n",
        "    engine = create_engine(conn_string)\n",
        "    con = engine.connect()\n",
        "    stations = con.execute(\"SELECT DISTINCT id AS station_id, name, capacity, lat, lon  FROM status_fall2017\")\n",
        "    con.close()\n",
        "\n",
        "    return render_template('citibike.html', stations=stations)\n",
        "\n",
        "app.run()\n",
        "```\n",
        "\n"
      ]
    },
    {
      "cell_type": "markdown",
      "metadata": {
        "id": "rB0yusEP8NUu",
        "colab_type": "text"
      },
      "source": [
        "and add the following code to the `\"templates/citibike.html\"` file\n",
        "\n",
        "```html\n",
        "<!DOCTYPE html>\n",
        "<html>\n",
        "<body>   <!-- This is a comment in HTML -->\n",
        "    <table>\n",
        "        <thead>\n",
        "            <tr>    <!-- Construct table header -->\n",
        "                <th>Station ID</th>\n",
        "                <th>Address</th>\n",
        "                <th>Capacity</th>\n",
        "                <th>Lon / Lat</th>\n",
        "            </tr>\n",
        "        </thead>\n",
        "        <tbody>\n",
        "            {% for station in stations %}    <!-- Fill table rows for each station --> \n",
        "                <tr>\n",
        "                    <td>{{ station.station_id }}</td>\n",
        "                    <td>{{ station.name }}</td>\n",
        "                    <td>{{ station.capacity }}</td>\n",
        "                    <td>{{ station.lon }}, {{ station.lat }}</td>\n",
        "           \n",
        "                </tr>\n",
        "            {% endfor %}\n",
        "         </tbody>\n",
        "    </table>\n",
        "</body>\n",
        "</html>\n",
        "```\n",
        "\n",
        "Run this code to see how the table looks."
      ]
    },
    {
      "cell_type": "markdown",
      "metadata": {
        "id": "0Lq0I6tz8NUv",
        "colab_type": "text"
      },
      "source": [
        "#### Now let's start our server:\n",
        "\n",
        "\n",
        "\n",
        "```bash\n",
        "$  python3 webserver.py\n",
        "```"
      ]
    }
  ]
}