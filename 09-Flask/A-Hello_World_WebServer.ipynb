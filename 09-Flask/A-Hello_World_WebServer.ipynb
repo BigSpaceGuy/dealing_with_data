{
  "nbformat": 4,
  "nbformat_minor": 0,
  "metadata": {
    "anaconda-cloud": {},
    "kernelspec": {
      "display_name": "Python 3",
      "language": "python",
      "name": "python3"
    },
    "language_info": {
      "codemirror_mode": {
        "name": "ipython",
        "version": 3
      },
      "file_extension": ".py",
      "mimetype": "text/x-python",
      "name": "python",
      "nbconvert_exporter": "python",
      "pygments_lexer": "ipython3",
      "version": "3.6.6"
    },
    "colab": {
      "name": "A-Hello_World_WebServer.ipynb",
      "provenance": []
    }
  },
  "cells": [
    {
      "cell_type": "markdown",
      "metadata": {
        "id": "eLmO7L394kvv",
        "colab_type": "text"
      },
      "source": [
        "# Creating a Simple Web Server using Flask\n"
      ]
    },
    {
      "cell_type": "markdown",
      "metadata": {
        "id": "ZnFcxFWl4kvw",
        "colab_type": "text"
      },
      "source": [
        "<img src=\"https://github.com/ipeirotis/dealing_with_data/blob/master/09-Flask/images/logo.png?raw=1\" width=50%>"
      ]
    },
    {
      "cell_type": "markdown",
      "metadata": {
        "id": "sTXJCIaf4kvz",
        "colab_type": "text"
      },
      "source": [
        "## What is Flask?\n",
        "\n",
        "Flask is a **micro web framework** written in Python and based on the [Werkzeug toolkit](werkzeug.pocoo.org/) and [Jinja2 template engine](jinja.pocoo.org/). \n",
        "\n",
        "Flask is called a micro framework because it does not require particular tools or libraries. It has no database abstraction layer, form validation, or any other components where pre-existing third-party libraries provide common functions. However, Flask supports extensions that can add application features as if they were implemented in Flask itself. Extensions exist for object-relational mappers, form validation, upload handling, various open authentication technologies and several common framework related tools. Extensions are updated far more regularly than the core Flask program.\n",
        "\n",
        "More information about Flask can be found on [official web site](http://flask.pocoo.org/).\n",
        "\n",
        "\n",
        "You can install Flask using the command below:\n"
      ]
    },
    {
      "cell_type": "code",
      "metadata": {
        "id": "3I8hySch4kvz",
        "colab_type": "code",
        "colab": {
          "base_uri": "https://localhost:8080/",
          "height": 370
        },
        "outputId": "928f5f4f-c8dc-45b0-f53b-3675a78202d9"
      },
      "source": [
        "!pip install flask==0.12.2\n",
        "!pip install flask-ngrok"
      ],
      "execution_count": 3,
      "outputs": [
        {
          "output_type": "stream",
          "text": [
            "Requirement already satisfied: flask==0.12.2 in /usr/local/lib/python3.6/dist-packages (0.12.2)\n",
            "Requirement already satisfied: click>=2.0 in /usr/local/lib/python3.6/dist-packages (from flask==0.12.2) (7.1.1)\n",
            "Requirement already satisfied: itsdangerous>=0.21 in /usr/local/lib/python3.6/dist-packages (from flask==0.12.2) (1.1.0)\n",
            "Requirement already satisfied: Jinja2>=2.4 in /usr/local/lib/python3.6/dist-packages (from flask==0.12.2) (2.11.1)\n",
            "Requirement already satisfied: Werkzeug>=0.7 in /usr/local/lib/python3.6/dist-packages (from flask==0.12.2) (1.0.1)\n",
            "Requirement already satisfied: MarkupSafe>=0.23 in /usr/local/lib/python3.6/dist-packages (from Jinja2>=2.4->flask==0.12.2) (1.1.1)\n",
            "Collecting flask-ngrok\n",
            "  Downloading https://files.pythonhosted.org/packages/af/6c/f54cb686ad1129e27d125d182f90f52b32f284e6c8df58c1bae54fa1adbc/flask_ngrok-0.0.25-py3-none-any.whl\n",
            "Requirement already satisfied: requests in /usr/local/lib/python3.6/dist-packages (from flask-ngrok) (2.21.0)\n",
            "Requirement already satisfied: Flask>=0.8 in /usr/local/lib/python3.6/dist-packages (from flask-ngrok) (0.12.2)\n",
            "Requirement already satisfied: chardet<3.1.0,>=3.0.2 in /usr/local/lib/python3.6/dist-packages (from requests->flask-ngrok) (3.0.4)\n",
            "Requirement already satisfied: idna<2.9,>=2.5 in /usr/local/lib/python3.6/dist-packages (from requests->flask-ngrok) (2.8)\n",
            "Requirement already satisfied: urllib3<1.25,>=1.21.1 in /usr/local/lib/python3.6/dist-packages (from requests->flask-ngrok) (1.24.3)\n",
            "Requirement already satisfied: certifi>=2017.4.17 in /usr/local/lib/python3.6/dist-packages (from requests->flask-ngrok) (2019.11.28)\n",
            "Requirement already satisfied: itsdangerous>=0.21 in /usr/local/lib/python3.6/dist-packages (from Flask>=0.8->flask-ngrok) (1.1.0)\n",
            "Requirement already satisfied: click>=2.0 in /usr/local/lib/python3.6/dist-packages (from Flask>=0.8->flask-ngrok) (7.1.1)\n",
            "Requirement already satisfied: Werkzeug>=0.7 in /usr/local/lib/python3.6/dist-packages (from Flask>=0.8->flask-ngrok) (1.0.1)\n",
            "Requirement already satisfied: Jinja2>=2.4 in /usr/local/lib/python3.6/dist-packages (from Flask>=0.8->flask-ngrok) (2.11.1)\n",
            "Requirement already satisfied: MarkupSafe>=0.23 in /usr/local/lib/python3.6/dist-packages (from Jinja2>=2.4->Flask>=0.8->flask-ngrok) (1.1.1)\n",
            "Installing collected packages: flask-ngrok\n",
            "Successfully installed flask-ngrok-0.0.25\n"
          ],
          "name": "stdout"
        }
      ]
    },
    {
      "cell_type": "markdown",
      "metadata": {
        "id": "efvbypbI4kv4",
        "colab_type": "text"
      },
      "source": [
        "## Hello World Example\n",
        "\n",
        "We are going to use Flask to create at first a relatively simple web application that will display \"Hello World!\" message and then we will use more advanced functionality, HTML templates and SQL database.\n",
        "\n",
        "To do this we will use the current IPython notebook, where we will describe all steps, explain and execute the web application's code. \n",
        "\n",
        "> In general, a Flask application may be run using command shell; we also also provide an instruction how to run it using the shell, but here we will execute all scripts using IPython notebooks's magic functions, especially, `%run`.  \n"
      ]
    },
    {
      "cell_type": "code",
      "metadata": {
        "id": "otW0KPhq5FAv",
        "colab_type": "code",
        "colab": {
          "base_uri": "https://localhost:8080/",
          "height": 101
        },
        "outputId": "95a92527-1c19-491e-b87e-a240c89659d6"
      },
      "source": [
        "from flask import Flask\n",
        "from flask_ngrok import run_with_ngrok\n",
        "\n",
        "app = Flask(__name__)\n",
        "run_with_ngrok(app)  # Start ngrok when app is run\n",
        "\n",
        "@app.route(\"/\")\n",
        "def hello():\n",
        "    return \"Hello Panos!\"\n",
        "\n",
        "app.run()"
      ],
      "execution_count": 8,
      "outputs": [
        {
          "output_type": "stream",
          "text": [
            " * Running on http://127.0.0.1:5000/ (Press CTRL+C to quit)\n"
          ],
          "name": "stderr"
        },
        {
          "output_type": "stream",
          "text": [
            " * Running on http://be2ceadc.ngrok.io\n",
            " * Traffic stats available on http://127.0.0.1:4040\n"
          ],
          "name": "stdout"
        },
        {
          "output_type": "stream",
          "text": [
            "127.0.0.1 - - [06/Apr/2020 00:32:01] \"\u001b[37mGET / HTTP/1.1\u001b[0m\" 200 -\n",
            "127.0.0.1 - - [06/Apr/2020 00:32:01] \"\u001b[33mGET /favicon.ico HTTP/1.1\u001b[0m\" 404 -\n"
          ],
          "name": "stderr"
        }
      ]
    },
    {
      "cell_type": "markdown",
      "metadata": {
        "id": "TG60j8if4kv5",
        "colab_type": "text"
      },
      "source": [
        "The \"Hello World!\" message displaying in a browser window is as simple as possible first application that we will create. Let's do this!"
      ]
    },
    {
      "cell_type": "markdown",
      "metadata": {
        "id": "m5Yp5DL04kv6",
        "colab_type": "text"
      },
      "source": [
        "### Creating a \"Hello World!\" application\n",
        "\n",
        "Firstly, create a new text file in the folder where the current notebook lies (see the next picture how to do this)\n",
        "\n",
        "<img src=\"https://github.com/ipeirotis/dealing_with_data/blob/master/09-Flask/images/file1.jpg?raw=1\">\n",
        "\n",
        "After that in the just opened new browser window rename it to `\"webserver.py\"` (see the screenshot; you may call it as you wish, but it must have `\".py\"` extension and than you will need to use your own name where this file will be mentioned)\n",
        "\n",
        "<img src=\"https://github.com/ipeirotis/dealing_with_data/blob/master/09-Flask/images/file2.jpg?raw=1\">\n"
      ]
    },
    {
      "cell_type": "markdown",
      "metadata": {
        "id": "H3bxVOxR4kv6",
        "colab_type": "text"
      },
      "source": [
        "\n",
        "Than add the following code to the created `\"webserver.py\"` file\n",
        "```python\n",
        "from flask import Flask\n",
        " \n",
        "app = Flask(__name__)\n",
        "\n",
        "@app.route(\"/\")\n",
        "def home():\n",
        "    return \"Hello World!\"\n",
        "\n",
        "app.run(host='0.0.0.0', port=5000, debug=True)\n",
        "```\n",
        "\n",
        "and save it."
      ]
    },
    {
      "cell_type": "markdown",
      "metadata": {
        "id": "Fa8p2nmk4kv7",
        "colab_type": "text"
      },
      "source": [
        "Here we import Flask and create an instance. Then we define a _route_ `\"/\"` which means the default web address. We also specify that the server will run on `port 5000`, and anybody `(0.0.0.0)` can connect to it.\n",
        "\n",
        "If you enable debug support the server will reload itself on code changes, and it will also provide you with a helpful debugger if things go wrong. That is why we used `app.run(debug=True)`.\n",
        "\n",
        "We can now start our server by doing the following: "
      ]
    },
    {
      "cell_type": "markdown",
      "metadata": {
        "id": "YQe7fSIc4kv8",
        "colab_type": "text"
      },
      "source": [
        "* On the command prompt, go to your working directory and run the script:\n",
        "```bash\n",
        "$  python3 webserver.py\n",
        "```\n",
        "* Then open a web browser and go to `http://your_ip_address:5000/`"
      ]
    },
    {
      "cell_type": "markdown",
      "metadata": {
        "id": "AUw4zvhR4kv8",
        "colab_type": "text"
      },
      "source": [
        "Now, you can see the result at  http://your_ip_address:5000/. \n",
        "\n",
        "<img src=\"https://github.com/ipeirotis/dealing_with_data/blob/master/09-Flask/images/helloworld.jpg?raw=1\" width=50%>\n"
      ]
    },
    {
      "cell_type": "markdown",
      "metadata": {
        "collapsed": true,
        "id": "QZAAYY1G4kv9",
        "colab_type": "text"
      },
      "source": [
        "### Version 2 of Hello World"
      ]
    },
    {
      "cell_type": "markdown",
      "metadata": {
        "id": "CPCp-v_t4kv9",
        "colab_type": "text"
      },
      "source": [
        "Now let's expand our server a bit. Let's modify the file `webserver.py` with the following content, and then run it. (Remember to stop the previous cell, if it is still running.)\n",
        "\n",
        "```python\n",
        "from flask import Flask\n",
        "from datetime import datetime\n",
        "\n",
        "app = Flask(__name__)\n",
        "\n",
        "# We add a global variable that will be used to count the visitors to a specific URL\n",
        "visitor_counter = 0\n",
        "\n",
        "def get_time_message():\n",
        "    datetime.now().strftime('%Y-%m-%d %H:%M:%S')\n",
        "    date = datetime.now().strftime('%Y-%m-%d')\n",
        "    time = datetime.now().strftime('%H:%M:%S')\n",
        "    message = \"<P>The date is {d}<P>The time is {t}</H1>\"\n",
        "    return message.format(d=date, t=time)\n",
        "    \n",
        "@app.route(\"/\")\n",
        "def home():\n",
        "    message = get_time_message()\n",
        "    return \"<H1>Hello World!\" + message +\"</H1>\"\n",
        "\n",
        "\n",
        "# Go to http://<your IP>:5000/hello to see the message\n",
        "@app.route('/hello')\n",
        "def hello_visitor():\n",
        "    global visitor_counter\n",
        "    visitor_counter += 1\n",
        "    return '<H1>Hello! You are visitor #{i}</H1>'.format(i=visitor_counter)\n",
        "\n",
        "\n",
        "app.run(host='0.0.0.0', port=5000, debug=True)\n",
        "```\n",
        "\n",
        "You will see a few new things here:\n",
        "* We return a message with the date and time.\n",
        "* We how have a second URL, under `/hello` that returns a different message. You need to go to `http://<your IP>:5000/hello` to see the message.\n",
        "* We have a \"global\" variable, that gets updated every time someone visits the `/hello`\n"
      ]
    },
    {
      "cell_type": "code",
      "metadata": {
        "id": "Y9PyYBAD4kv-",
        "colab_type": "code",
        "colab": {
          "base_uri": "https://localhost:8080/",
          "height": 403
        },
        "outputId": "31a4e91c-b8f8-4ca0-a8c1-dbc5a0b653b8"
      },
      "source": [
        "from flask import Flask\n",
        "from flask_ngrok import run_with_ngrok\n",
        "from datetime import datetime\n",
        " \n",
        "app = Flask(__name__)\n",
        "run_with_ngrok(app)  # Start ngrok when app is run\n",
        " \n",
        "# We add a global variable that will be used to count the visitors to a specific URL\n",
        "visitor_counter = 0\n",
        " \n",
        "def get_time_message():\n",
        "    datetime.now().strftime('%Y-%m-%d %H:%M:%S')\n",
        "    date = datetime.now().strftime('%Y-%m-%d')\n",
        "    time = datetime.now().strftime('%H:%M:%S')\n",
        "    message = \"<P>The date is {d}<P>The time is {t}</H1>\"\n",
        "    return message.format(d=date, t=time)\n",
        " \n",
        "@app.route(\"/\")\n",
        "def home():\n",
        "    message = get_time_message()\n",
        "    return \"<H1>Hello World!\" + message +\"</H1>\"\n",
        " \n",
        " \n",
        "# Go to http://<your IP>:5000/hello to see the message\n",
        "@app.route('/hello')\n",
        "def hello_visitor():\n",
        "    global visitor_counter\n",
        "    visitor_counter += 1\n",
        "    return '<H1>Hello! You are visitor #{i}</H1>'.format(i=visitor_counter)\n",
        " \n",
        " \n",
        "app.run()"
      ],
      "execution_count": 10,
      "outputs": [
        {
          "output_type": "stream",
          "text": [
            " * Running on http://127.0.0.1:5000/ (Press CTRL+C to quit)\n"
          ],
          "name": "stderr"
        },
        {
          "output_type": "stream",
          "text": [
            " * Running on http://9947bc8a.ngrok.io\n",
            " * Traffic stats available on http://127.0.0.1:4040\n"
          ],
          "name": "stdout"
        },
        {
          "output_type": "stream",
          "text": [
            "127.0.0.1 - - [06/Apr/2020 00:38:13] \"\u001b[37mGET / HTTP/1.1\u001b[0m\" 200 -\n",
            "127.0.0.1 - - [06/Apr/2020 00:38:15] \"\u001b[33mGET /favicon.ico HTTP/1.1\u001b[0m\" 404 -\n",
            "127.0.0.1 - - [06/Apr/2020 00:38:17] \"\u001b[37mGET / HTTP/1.1\u001b[0m\" 200 -\n",
            "127.0.0.1 - - [06/Apr/2020 00:38:19] \"\u001b[37mGET / HTTP/1.1\u001b[0m\" 200 -\n",
            "127.0.0.1 - - [06/Apr/2020 00:38:20] \"\u001b[37mGET / HTTP/1.1\u001b[0m\" 200 -\n",
            "127.0.0.1 - - [06/Apr/2020 00:38:22] \"\u001b[37mGET / HTTP/1.1\u001b[0m\" 200 -\n",
            "127.0.0.1 - - [06/Apr/2020 00:38:23] \"\u001b[37mGET / HTTP/1.1\u001b[0m\" 200 -\n",
            "127.0.0.1 - - [06/Apr/2020 00:38:24] \"\u001b[37mGET / HTTP/1.1\u001b[0m\" 200 -\n",
            "127.0.0.1 - - [06/Apr/2020 00:38:36] \"\u001b[33mGET /hellp HTTP/1.1\u001b[0m\" 404 -\n",
            "127.0.0.1 - - [06/Apr/2020 00:38:40] \"\u001b[37mGET /hello HTTP/1.1\u001b[0m\" 200 -\n",
            "127.0.0.1 - - [06/Apr/2020 00:38:42] \"\u001b[37mGET /hello HTTP/1.1\u001b[0m\" 200 -\n",
            "127.0.0.1 - - [06/Apr/2020 00:38:42] \"\u001b[37mGET /hello HTTP/1.1\u001b[0m\" 200 -\n",
            "127.0.0.1 - - [06/Apr/2020 00:38:43] \"\u001b[37mGET /hello HTTP/1.1\u001b[0m\" 200 -\n",
            "127.0.0.1 - - [06/Apr/2020 00:38:43] \"\u001b[37mGET /hello HTTP/1.1\u001b[0m\" 200 -\n",
            "127.0.0.1 - - [06/Apr/2020 00:38:43] \"\u001b[37mGET /hello HTTP/1.1\u001b[0m\" 200 -\n",
            "127.0.0.1 - - [06/Apr/2020 00:38:44] \"\u001b[37mGET /hello HTTP/1.1\u001b[0m\" 200 -\n",
            "127.0.0.1 - - [06/Apr/2020 00:38:44] \"\u001b[37mGET /hello HTTP/1.1\u001b[0m\" 200 -\n",
            "127.0.0.1 - - [06/Apr/2020 00:38:44] \"\u001b[37mGET /hello HTTP/1.1\u001b[0m\" 200 -\n",
            "127.0.0.1 - - [06/Apr/2020 00:38:45] \"\u001b[37mGET /hello HTTP/1.1\u001b[0m\" 200 -\n",
            "127.0.0.1 - - [06/Apr/2020 00:38:45] \"\u001b[37mGET /hello HTTP/1.1\u001b[0m\" 200 -\n"
          ],
          "name": "stderr"
        }
      ]
    }
  ]
}