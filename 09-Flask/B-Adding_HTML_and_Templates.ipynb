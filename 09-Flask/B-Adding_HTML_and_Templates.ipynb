{
  "nbformat": 4,
  "nbformat_minor": 0,
  "metadata": {
    "anaconda-cloud": {},
    "kernelspec": {
      "display_name": "Python 3",
      "language": "python",
      "name": "python3"
    },
    "language_info": {
      "codemirror_mode": {
        "name": "ipython",
        "version": 3
      },
      "file_extension": ".py",
      "mimetype": "text/x-python",
      "name": "python",
      "nbconvert_exporter": "python",
      "pygments_lexer": "ipython3",
      "version": "3.6.6"
    },
    "colab": {
      "name": "B-Adding_HTML_and_Templates.ipynb",
      "provenance": [],
      "toc_visible": true
    }
  },
  "cells": [
    {
      "cell_type": "code",
      "metadata": {
        "id": "dxtW-Y8KJIoZ",
        "colab_type": "code",
        "colab": {
          "base_uri": "https://localhost:8080/",
          "height": 487
        },
        "outputId": "2258909a-9b79-460f-f42c-2f19efd9b423"
      },
      "source": [
        "!pip install flask==0.12.2\n",
        "!pip install flask-ngrok"
      ],
      "execution_count": 1,
      "outputs": [
        {
          "output_type": "stream",
          "text": [
            "Collecting flask==0.12.2\n",
            "\u001b[?25l  Downloading https://files.pythonhosted.org/packages/77/32/e3597cb19ffffe724ad4bf0beca4153419918e7fa4ba6a34b04ee4da3371/Flask-0.12.2-py2.py3-none-any.whl (83kB)\n",
            "\u001b[K     |████████████████████████████████| 92kB 2.9MB/s \n",
            "\u001b[?25hRequirement already satisfied: itsdangerous>=0.21 in /usr/local/lib/python3.6/dist-packages (from flask==0.12.2) (1.1.0)\n",
            "Requirement already satisfied: click>=2.0 in /usr/local/lib/python3.6/dist-packages (from flask==0.12.2) (7.1.1)\n",
            "Requirement already satisfied: Werkzeug>=0.7 in /usr/local/lib/python3.6/dist-packages (from flask==0.12.2) (1.0.1)\n",
            "Requirement already satisfied: Jinja2>=2.4 in /usr/local/lib/python3.6/dist-packages (from flask==0.12.2) (2.11.1)\n",
            "Requirement already satisfied: MarkupSafe>=0.23 in /usr/local/lib/python3.6/dist-packages (from Jinja2>=2.4->flask==0.12.2) (1.1.1)\n",
            "Installing collected packages: flask\n",
            "  Found existing installation: Flask 1.1.1\n",
            "    Uninstalling Flask-1.1.1:\n",
            "      Successfully uninstalled Flask-1.1.1\n",
            "Successfully installed flask-0.12.2\n",
            "Collecting flask-ngrok\n",
            "  Downloading https://files.pythonhosted.org/packages/af/6c/f54cb686ad1129e27d125d182f90f52b32f284e6c8df58c1bae54fa1adbc/flask_ngrok-0.0.25-py3-none-any.whl\n",
            "Requirement already satisfied: Flask>=0.8 in /usr/local/lib/python3.6/dist-packages (from flask-ngrok) (0.12.2)\n",
            "Requirement already satisfied: requests in /usr/local/lib/python3.6/dist-packages (from flask-ngrok) (2.21.0)\n",
            "Requirement already satisfied: itsdangerous>=0.21 in /usr/local/lib/python3.6/dist-packages (from Flask>=0.8->flask-ngrok) (1.1.0)\n",
            "Requirement already satisfied: Werkzeug>=0.7 in /usr/local/lib/python3.6/dist-packages (from Flask>=0.8->flask-ngrok) (1.0.1)\n",
            "Requirement already satisfied: Jinja2>=2.4 in /usr/local/lib/python3.6/dist-packages (from Flask>=0.8->flask-ngrok) (2.11.1)\n",
            "Requirement already satisfied: click>=2.0 in /usr/local/lib/python3.6/dist-packages (from Flask>=0.8->flask-ngrok) (7.1.1)\n",
            "Requirement already satisfied: chardet<3.1.0,>=3.0.2 in /usr/local/lib/python3.6/dist-packages (from requests->flask-ngrok) (3.0.4)\n",
            "Requirement already satisfied: idna<2.9,>=2.5 in /usr/local/lib/python3.6/dist-packages (from requests->flask-ngrok) (2.8)\n",
            "Requirement already satisfied: certifi>=2017.4.17 in /usr/local/lib/python3.6/dist-packages (from requests->flask-ngrok) (2019.11.28)\n",
            "Requirement already satisfied: urllib3<1.25,>=1.21.1 in /usr/local/lib/python3.6/dist-packages (from requests->flask-ngrok) (1.24.3)\n",
            "Requirement already satisfied: MarkupSafe>=0.23 in /usr/local/lib/python3.6/dist-packages (from Jinja2>=2.4->Flask>=0.8->flask-ngrok) (1.1.1)\n",
            "Installing collected packages: flask-ngrok\n",
            "Successfully installed flask-ngrok-0.0.25\n"
          ],
          "name": "stdout"
        }
      ]
    },
    {
      "cell_type": "markdown",
      "metadata": {
        "id": "vgn-C6DQ_OjA",
        "colab_type": "text"
      },
      "source": [
        "# HTML and Templates\n",
        "\n",
        "The displaying \"Hello World!\" message is simple. The first thing that we want to add is some basic HTML. "
      ]
    },
    {
      "cell_type": "markdown",
      "metadata": {
        "id": "ARGy5fQE_OjC",
        "colab_type": "text"
      },
      "source": [
        "## HTML markup and basic tags\n",
        "\n",
        "The displaying \"Hello World!\" message is too simple. But we know that web pages possess very nice, often amazing view. It is due to [HTML](https://en.wikipedia.org/wiki/HTML), [CSS](https://en.wikipedia.org/wiki/Cascading_Style_Sheets) and [JavaScript](https://en.wikipedia.org/wiki/JavaScript). While the latter two can be avoided, for now, without HTML we are not able to create any orginized and structured content of a web page.\n",
        "\n",
        "HTML is the standard markup language for creating web pages and web applications. The building blocks of HTML are HTML tags. They are used to define the HTML elements that should appear on a web page. <br/>\n",
        "Any given web page consists of many HTML elements represented by HTML tags. <br/>\n",
        "HTML tags tell your browser which elements to present and how to present them. Where the element appears is determined by the order in which the tags appear.\n",
        "\n",
        "HTML consists of over 100 tags. Don't let that put you off though - you will probably find that most of the time, you only use a handful of tags on your web pages.\n",
        "\n",
        "Full list of the tags you can find [here](https://www.w3schools.com/tags/ref_byfunc.asp)."
      ]
    },
    {
      "cell_type": "markdown",
      "metadata": {
        "id": "NHbOE_kd_OjC",
        "colab_type": "text"
      },
      "source": [
        "## HTML structure\n",
        "\n",
        "The general view of HTML structure is \n",
        "```html \n",
        "<!DOCTYPE html>\n",
        "<html>\n",
        "<head>\n",
        "    <title>Page Title</title>\n",
        "</head>\n",
        "<body>\n",
        "    All your content goes here\n",
        "</body>\n",
        "</html>\n",
        "```\n",
        "\n",
        "An opening `<html>` tag should appear first and a closing `</html>` tag should appear at the bottom of the document. Every other bit of HTML should appear between these two tags. <br/>\n",
        "The `<head>` element is the first element to appear after the opening `<html>` tag. In the document head we place things like the page title, meta data and links to external stylesheets and other resources.<br/>\n",
        "All of the content that is visible on a web page is nested between opening and closing <body> tags. The <body> is the primary container of the content that makes up a web page.\n",
        "\n",
        "Below we list a short list of most common used HTML tags (we will supplement also few other further)\n",
        "\n",
        "HTML tag | Description\n",
        "------------- | -------------\n",
        "`<h1> ... <h6>` | Defines headings. There are 6 levels of headings in HTML ranging from `<h1>` for the most important, to `<h6>` for the least important\n",
        "`<p>` | Defines a paragraph\n",
        "`<strong>` | Defines important text\n",
        "`<em>` | Defines emphasized text \n",
        "`<u>` | Defines text that should be stylistically different from normal text\n",
        "`<div>` | Defines a section in a document. The `<div>` tag is used to group block-elements to format them with CSS\n",
        "`<hr>` | Defines a thematic change in the content\n",
        "`<a>` | Defines a hyperlink, which is used to link from one page to another specified in `href` attribute\n",
        "\n"
      ]
    },
    {
      "cell_type": "markdown",
      "metadata": {
        "id": "k7kmsxHX_OjD",
        "colab_type": "text"
      },
      "source": [
        "## HTML Examples\n",
        "\n",
        "Look at examples of their usage:\n",
        "\n",
        "* **`<h1> ... <h6>` tags**\n",
        "```html\n",
        "<h1>Heading 1</h1>\n",
        "<h6>Heading 6</h6>\n",
        "```\n",
        "That is what we got (you may try others yourself in the \"index.html\" file; see below):\n",
        "<h1>Heading 1</h1>\n",
        "<h6>Heading 6</h6>\n",
        "<br/>\n",
        "* **`<p>`, `<strong>`, `<em>` and `<u>` tags**\n",
        "```html\n",
        "<p><strong>Attention:</strong> This is <u>some text</u> in a <em>paragraph</em>.</p>\n",
        "```\n",
        "Output:\n",
        "<p><strong>Attention:</strong> This is <u>some text</u> in a <em>paragraph</em>.</p>\n",
        "<br/>\n",
        "* *`<div>` tag*\n",
        "```html\n",
        "<div style=\"color:red\">\n",
        "    <h3>This is a heading</h3>\n",
        "    <p>This is a paragraph</p>\n",
        "</div>\n",
        "```\n",
        "* *Output:*\n",
        "\n",
        "<div style=\"color:red\">\n",
        "    <h3>This is a heading</h3>\n",
        "    <p>This is a paragraph</p>\n",
        "</div>\n",
        "\n",
        "Pay attention that both &lt;h3&gt; and &lt;p&gt; became red. This CSS property was used to demonstrate basic meaning of &lt;div&gt; tag. We don't aim to explain this in details. A lot of information about CSS you may find, for example, [here](https://www.w3schools.com/css/).\n",
        "<br/>\n",
        "\n"
      ]
    },
    {
      "cell_type": "markdown",
      "metadata": {
        "id": "_cTufEPZ_OjE",
        "colab_type": "text"
      },
      "source": [
        "Let's use the above tags in the `\"index.html\"` to pretify the old \"Hello World!\" message and display some new text and an image. \n",
        "\n",
        "Update the `\"index.html\"` file with the following code\n",
        "\n",
        "```html\n",
        "<!DOCTYPE html>\n",
        "<html>\n",
        "<head>\n",
        "    <title>My Flask App</title>\n",
        "</head>\n",
        "<body>\n",
        "    <h1>Hello World!</h1>\n",
        "    <h4>Welcome to the Flask Lesson</h4>\n",
        "    <hr>\n",
        "    <div style=\"color: green\">\n",
        "        <strong>Below an image is displayed</strong>\n",
        "        <p>\n",
        "        <img width=\"300\" src=\"https://upload.wikimedia.org/wikipedia/en/thumb/5/58/NYU_logo.svg/1280px-NYU_logo.svg.png\"/>\n",
        "        <p>This is a simple example how to use HTML in Flask templates</p>\n",
        "    </div>\n",
        "    <p>More info you can find <a href=\"https://www.w3schools.com/html/default.asp\">here</a></p>\n",
        "</body>\n",
        "</html>\n",
        "```"
      ]
    },
    {
      "cell_type": "markdown",
      "metadata": {
        "id": "KeVtnhvF_OjE",
        "colab_type": "text"
      },
      "source": [
        "## Using templates within Flask\n",
        "\n",
        "Let's try to use some of the tags in Flask's templates. <br/> \n",
        "First thing we need to do is to create the folder `\"templates\"` in our working directory (see the instruction below)\n",
        "\n",
        "**Step 1: Click New ➜ Folder**\n",
        "\n",
        "<img src=\"https://github.com/ipeirotis/dealing_with_data/blob/master/09-Flask/images/crfolder1.jpg?raw=1\">\n",
        "\n",
        "**Step 2 Select the \"Untitled Folder\" and click Rename**\n",
        "\n",
        "<img src=\"https://github.com/ipeirotis/dealing_with_data/blob/master/09-Flask/images/crfolder2.jpg?raw=1\">\n",
        "\n",
        "**Step 3 Give the new name \"templates\" to the \"Untitled Folder\"**\n",
        "\n",
        "<img src=\"https://github.com/ipeirotis/dealing_with_data/blob/master/09-Flask/images/crfolder3.jpg?raw=1\">\n",
        "\n",
        "Then we need to create a HTML template in this newly created folder. Go to this folder and create a new file with name `\"index.html\"` there. \n",
        "\n",
        "<img src=\"https://github.com/ipeirotis/dealing_with_data/blob/master/09-Flask/images/crfolderandfile1.jpg?raw=1\">\n",
        "\n",
        "Write \"Hello World!\" to the just created file to display it as before."
      ]
    },
    {
      "cell_type": "markdown",
      "metadata": {
        "id": "_pCIKGz3_OjF",
        "colab_type": "text"
      },
      "source": [
        "## Use HTML as template\n",
        "\n",
        "Let's update the Flask application to use templates. For this we need to open `\"webserver.py\"` and make the following changes (the function `render_template` allows rendering a HTML template; all you have to do is provide the name of the template and the variables you want to pass to the template engine as keyword arguments)\n",
        "\n",
        "```python\n",
        "from flask import Flask, render_template\n",
        " \n",
        "app = Flask(__name__)\n",
        "\n",
        "@app.route(\"/\")\n",
        "def home():\n",
        "    return render_template(\"index.html\")\n",
        "\n",
        "app.run(host='0.0.0.0', port=5000, debug=True)\n",
        "```\n",
        "\n",
        "Save `\"webserver.py\"` file and go to http://your_ip_address:5000/ page to see result. Of course, nothing major changed, but we now have separated code and content. We will be using that as a template to build more a complex web application. "
      ]
    },
    {
      "cell_type": "markdown",
      "metadata": {
        "id": "Y8BD1qGI_OjG",
        "colab_type": "text"
      },
      "source": [
        "Go to Terminal and Run:\n",
        "\n",
        "    $ python3 webserver.py"
      ]
    },
    {
      "cell_type": "code",
      "metadata": {
        "id": "R23ZOvJ9_OjG",
        "colab_type": "code",
        "colab": {
          "base_uri": "https://localhost:8080/",
          "height": 101
        },
        "outputId": "32ab6e40-9317-4f8d-e150-cb520f7b451b"
      },
      "source": [
        "from flask import Flask, render_template\n",
        "from flask_ngrok import run_with_ngrok\n",
        "\n",
        "app = Flask(__name__)\n",
        "run_with_ngrok(app)  # Start ngrok when app is run\n",
        " \n",
        "\n",
        "@app.route(\"/\")\n",
        "def home():\n",
        "    return render_template(\"index.html\")\n",
        " \n",
        "app.run()"
      ],
      "execution_count": 3,
      "outputs": [
        {
          "output_type": "stream",
          "text": [
            " * Running on http://127.0.0.1:5000/ (Press CTRL+C to quit)\n"
          ],
          "name": "stderr"
        },
        {
          "output_type": "stream",
          "text": [
            " * Running on http://3c13d2aa.ngrok.io\n",
            " * Traffic stats available on http://127.0.0.1:4040\n"
          ],
          "name": "stdout"
        },
        {
          "output_type": "stream",
          "text": [
            "127.0.0.1 - - [06/Apr/2020 01:41:36] \"\u001b[37mGET / HTTP/1.1\u001b[0m\" 200 -\n",
            "127.0.0.1 - - [06/Apr/2020 01:41:37] \"\u001b[33mGET /favicon.ico HTTP/1.1\u001b[0m\" 404 -\n"
          ],
          "name": "stderr"
        }
      ]
    }
  ]
}