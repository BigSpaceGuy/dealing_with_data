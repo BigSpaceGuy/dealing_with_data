{
  "nbformat": 4,
  "nbformat_minor": 0,
  "metadata": {
    "anaconda-cloud": {},
    "kernelspec": {
      "display_name": "Python 3",
      "language": "python",
      "name": "python3"
    },
    "language_info": {
      "codemirror_mode": {
        "name": "ipython",
        "version": 3
      },
      "file_extension": ".py",
      "mimetype": "text/x-python",
      "name": "python",
      "nbconvert_exporter": "python",
      "pygments_lexer": "ipython3",
      "version": "3.6.6"
    },
    "colab": {
      "name": "D-Connecting_to_MySQL.ipynb",
      "provenance": []
    }
  },
  "cells": [
    {
      "cell_type": "markdown",
      "metadata": {
        "id": "SkZqhwkf8NUg",
        "colab_type": "text"
      },
      "source": [
        "# All pieces together\n",
        "\n",
        "This is just a notebook that puts together all the pieces of the code that we have been writing during this tutorial."
      ]
    },
    {
      "cell_type": "code",
      "metadata": {
        "id": "O9o9NsaO8hMy",
        "colab_type": "code",
        "colab": {}
      },
      "source": [
        "!apt-get install python3-mysqldb\n",
        "!pip install sqlalchemy sql_magic\n",
        "!pip install flask==0.12.2\n",
        "!pip install flask-ngrok"
      ],
      "execution_count": 0,
      "outputs": []
    },
    {
      "cell_type": "code",
      "metadata": {
        "id": "LJo_Qn-BD1hr",
        "colab_type": "code",
        "colab": {
          "base_uri": "https://localhost:8080/",
          "height": 121
        },
        "outputId": "6d34b845-fafb-4a78-d6d7-7ae012c8cb3d"
      },
      "source": [
        "from google.colab import drive\n",
        "drive.mount('/content/drive')"
      ],
      "execution_count": 2,
      "outputs": [
        {
          "output_type": "stream",
          "text": [
            "Go to this URL in a browser: https://accounts.google.com/o/oauth2/auth?client_id=947318989803-6bn6qk8qdgf4n4g3pfee6491hc0brc4i.apps.googleusercontent.com&redirect_uri=urn%3aietf%3awg%3aoauth%3a2.0%3aoob&response_type=code&scope=email%20https%3a%2f%2fwww.googleapis.com%2fauth%2fdocs.test%20https%3a%2f%2fwww.googleapis.com%2fauth%2fdrive%20https%3a%2f%2fwww.googleapis.com%2fauth%2fdrive.photos.readonly%20https%3a%2f%2fwww.googleapis.com%2fauth%2fpeopleapi.readonly\n",
            "\n",
            "Enter your authorization code:\n",
            "··········\n",
            "Mounted at /content/drive\n"
          ],
          "name": "stdout"
        }
      ]
    },
    {
      "cell_type": "code",
      "metadata": {
        "id": "r2y9jsgqEKAI",
        "colab_type": "code",
        "colab": {
          "base_uri": "https://localhost:8080/",
          "height": 134
        },
        "outputId": "a942a326-0580-4cd1-c7a1-1a0cfa731ed3"
      },
      "source": [
        "from flask import Flask, render_template\n",
        "from flask_ngrok import run_with_ngrok\n",
        "from sqlalchemy import create_engine\n",
        " \n",
        "app = Flask(__name__, template_folder = '/content/drive/My Drive/templates')\n",
        "run_with_ngrok(app)\n",
        " \n",
        "@app.route('/citibike')\n",
        "def citibike_stations():\n",
        " \n",
        "    conn_string = 'mysql://{user}:{password}@{host}/{db}?charset={encoding}'.format(\n",
        "        host = 'db.ipeirotis.org', \n",
        "        user = 'student',\n",
        "        db = 'citibike_fall2017',\n",
        "        password = 'dwdstudent2015',\n",
        "        encoding = 'utf8mb4')\n",
        " \n",
        "    engine = create_engine(conn_string)\n",
        "    con = engine.connect()\n",
        "    stations = con.execute(\"SELECT DISTINCT id AS station_id, name, capacity, lat, lon  FROM status_fall2017\")\n",
        "    con.close()\n",
        " \n",
        "    return render_template('citibike.html', stations=stations)\n",
        " \n",
        "from flask import request\n",
        "import urllib\n",
        "@app.route('/station_status')\n",
        "def station_status():\n",
        "\n",
        "    station_id = int(request.args.get('station_id'))\n",
        "    station_name = request.args.get('station_name')\n",
        "    \n",
        "\n",
        "    conn_string = 'mysql://{user}:{password}@{host}/{db}?charset={encoding}'.format(\n",
        "        host = 'db.ipeirotis.org', \n",
        "        user = 'student',\n",
        "        db = 'citibike_fall2017',\n",
        "        password = 'dwdstudent2015',\n",
        "        encoding = 'utf8mb4')\n",
        "\n",
        "    engine = create_engine(conn_string)\n",
        "    con = engine.connect()\n",
        "    query = '''SELECT available_bikes, \n",
        "                      available_docks, \n",
        "                      capacity, \n",
        "                      available_bikes / capacity AS percent_full,\n",
        "                      communication_time \n",
        "               FROM status_fall2017\n",
        "               WHERE id = %s'''\n",
        "    status = con.execute(query, (station_id,))\n",
        "\n",
        "    image_filename = create_plot(station_id,con)\n",
        "\n",
        "    con.close()\n",
        "\n",
        "    return render_template('station_status.html', \n",
        "                           station_id = station_id, \n",
        "                           station_name = station_name,\n",
        "                           statuses=status, \n",
        "                           image=image_filename)\n",
        "\n",
        "@app.route('/')\n",
        "def home():\n",
        "    return render_template('search_stations.html')\n",
        "\n",
        "@app.route('/search/')\n",
        "def search():\n",
        "\n",
        "    name = request.args.get('name')\n",
        "\n",
        "    conn_string = 'mysql://{user}:{password}@{host}/{db}?charset={encoding}'.format(\n",
        "        host = 'db.ipeirotis.org', \n",
        "        user = 'student',\n",
        "        db = 'citibike_fall2017',\n",
        "        password = 'dwdstudent2015',\n",
        "        encoding = 'utf8mb4')\n",
        "    engine = create_engine(conn_string)\n",
        "\n",
        "    con = engine.connect()\n",
        "    query = '''SELECT DISTINCT id AS station_id, name, capacity, lat, lon\n",
        "               FROM status_fall2017\n",
        "               WHERE name LIKE %s\n",
        "            '''\n",
        "    stations = con.execute(query, ('%'+name+'%',))\n",
        "    con.close()\n",
        "\n",
        "    return render_template('citibike.html', stations=stations)\n",
        "\n",
        "import matplotlib\n",
        "matplotlib.use('Agg')\n",
        "import pandas as pd\n",
        "def create_plot(station,con):\n",
        "    # Read the data from the database\n",
        "    sql = '''\n",
        "        SELECT communication_time, available_bikes/capacity AS percent_full  \n",
        "        FROM status_fall2017 WHERE id= %(station_id)s\n",
        "    '''\n",
        "    status = pd.read_sql(sql, params={\"station_id\": station}, con=con)\n",
        "    status.set_index('communication_time', inplace=True)\n",
        "    # Create a plot, displaying the \"percent_full\" variable with \"communication_time\" as the x-axis\n",
        "    plot = status.plot(\n",
        "        figsize=(10, 2), \n",
        "        grid=True, \n",
        "        xlim=('2017-10-01', '2017-10-31'),\n",
        "        ylim=(0,1),\n",
        "        legend=False\n",
        "    )\n",
        "    # Store the file under the static folder, and give a name plot-<stationid>.png\n",
        "    filename = 'static/plot-'+str(station)+ '.png'\n",
        "    fig = plot.get_figure()\n",
        "    fig.savefig(filename, dpi=144)\n",
        "    fig.clear()\n",
        "    # Return back the name of the image file\n",
        "    return filename\n",
        "\n",
        "\n",
        "app.run()"
      ],
      "execution_count": 30,
      "outputs": [
        {
          "output_type": "stream",
          "text": [
            " * Running on http://127.0.0.1:5000/ (Press CTRL+C to quit)\n"
          ],
          "name": "stderr"
        },
        {
          "output_type": "stream",
          "text": [
            " * Running on http://fb194991.ngrok.io\n",
            " * Traffic stats available on http://127.0.0.1:4040\n"
          ],
          "name": "stdout"
        },
        {
          "output_type": "stream",
          "text": [
            "127.0.0.1 - - [15/Apr/2020 15:03:29] \"\u001b[37mGET / HTTP/1.1\u001b[0m\" 200 -\n",
            "127.0.0.1 - - [15/Apr/2020 15:03:29] \"\u001b[33mGET /favicon.ico HTTP/1.1\u001b[0m\" 404 -\n",
            "127.0.0.1 - - [15/Apr/2020 15:03:41] \"\u001b[32mGET /search?name=bleecker HTTP/1.1\u001b[0m\" 308 -\n",
            "127.0.0.1 - - [15/Apr/2020 15:03:43] \"\u001b[37mGET /search/?name=bleecker HTTP/1.1\u001b[0m\" 200 -\n"
          ],
          "name": "stderr"
        }
      ]
    },
    {
      "cell_type": "code",
      "metadata": {
        "id": "CpVnDZwwXQ3E",
        "colab_type": "code",
        "colab": {}
      },
      "source": [
        ""
      ],
      "execution_count": 0,
      "outputs": []
    },
    {
      "cell_type": "markdown",
      "metadata": {
        "id": "eBPVh5NWXjsr",
        "colab_type": "text"
      },
      "source": [
        "**`search_stations.html`**\n",
        "\n",
        "```html\n",
        "<!DOCTYPE html>\n",
        "<html>\n",
        "<head>\n",
        "  <link rel=\"stylesheet\" href=\"https://stackpath.bootstrapcdn.com/bootstrap/4.1.3/css/bootstrap.min.css\" integrity=\"sha384-MCw98/SFnGE8fJT3GXwEOngsV7Zt27NXFoaoApmYm81iuXoPkFOJwJ8ERdknLPMO\" crossorigin=\"anonymous\">\n",
        "  <title>Search Citibike Stations</title>\n",
        "</head>\n",
        "<body>\n",
        "  <div class=\"container\">\n",
        "    <div class=\"panel panel-info\">\n",
        "      <div class=\"panel-heading\" align=\"center\">\n",
        "        <h1>\n",
        "        <form action=\"/search\">\n",
        "          Station Name<br>\n",
        "          <input type=\"text\" name=\"name\"><br>\n",
        "          <input class=\"btn btn-primary\" type=\"submit\" value=\"Submit\">\n",
        "        </form>\n",
        "        </h1>\n",
        "      </div>\n",
        "    </div>\n",
        "  </div>\n",
        "</body>\n",
        "```"
      ]
    },
    {
      "cell_type": "markdown",
      "metadata": {
        "id": "CIyGCvBNX3cH",
        "colab_type": "text"
      },
      "source": [
        "`citibike.html`\n",
        "\n",
        "```html\n",
        "<!DOCTYPE html>\n",
        "<html>\n",
        "\n",
        "<head>\n",
        "\t<link rel=\"stylesheet\" href=\"https://stackpath.bootstrapcdn.com/bootstrap/4.1.3/css/bootstrap.min.css\"\n",
        "\t\tintegrity=\"sha384-MCw98/SFnGE8fJT3GXwEOngsV7Zt27NXFoaoApmYm81iuXoPkFOJwJ8ERdknLPMO\" crossorigin=\"anonymous\">\n",
        "</head>\n",
        "\n",
        "<body>\n",
        "\t<div class=\"container\">\n",
        "\t\t<div class=\"panel panel-info\">\n",
        "\t\t\t<div class=\"panel-heading\">\n",
        "\t\t\t\t<h1 class=\"panel-title\">Citibike Stations</h1>\n",
        "\t\t\t</div>\n",
        "\t\t\t<table class=\"table table-striped table-bordered table-hover\">\n",
        "\t\t\t\t<thead>\n",
        "\t\t\t\t\t<tr>\n",
        "\t\t\t\t\t\t<th>Station ID</th>\n",
        "\t\t\t\t\t\t<th>Address</th>\n",
        "\t\t\t\t\t\t<th>Capacity</th>\n",
        "\t\t\t\t\t\t<th>Lon / Lat</th>\n",
        "\t\t\t\t\t</tr>\n",
        "\t\t\t\t</thead>\n",
        "\t\t\t\t<tbody>\n",
        "\t\t\t\t\t{% for station in stations %}\n",
        "\t\t\t\t\t<!-- Fill table rows for each station -->\n",
        "\t\t\t\t\t<tr>\n",
        "\t\t\t\t\t\t<td>{{ station.station_id }}</td>\n",
        "\t\t\t\t\t\t<td>\n",
        "\t\t\t\t\t\t\t<a href=\"/station_status?station_id={{ station.station_id }}&station_name={{ station.name|urlencode }}\">\n",
        "\t\t\t\t\t\t\t\t{{ station.name }}\n",
        "\t\t\t\t\t\t\t</a>\n",
        "\t\t\t\t\t\t</td>\n",
        "\t\t\t\t\t\t<td>{{ station.capacity }}</td>\n",
        "\t\t\t\t\t\t<td>{{ station.lon }}, {{ station.lat }}</td>\n",
        "\t\t\t\t\t</tr>\n",
        "\n",
        "\t\t\t\t\t{% endfor %}\n",
        "\t\t\t\t</tbody>\n",
        "\t\t\t</table>\n",
        "\t\t</div>\n",
        "\t</div>\n",
        "</body>\n",
        "\n",
        "</html>\n",
        "```"
      ]
    },
    {
      "cell_type": "markdown",
      "metadata": {
        "id": "-LSWYPWdYPfq",
        "colab_type": "text"
      },
      "source": [
        "**`station_status.html`**\n",
        "\n",
        "```html\n",
        "\n",
        "<!DOCTYPE html>\n",
        "<html>\n",
        "\n",
        "<head>\n",
        "\t<link rel=\"stylesheet\" href=\"https://stackpath.bootstrapcdn.com/bootstrap/4.1.3/css/bootstrap.min.css\"\n",
        "\t\tintegrity=\"sha384-MCw98/SFnGE8fJT3GXwEOngsV7Zt27NXFoaoApmYm81iuXoPkFOJwJ8ERdknLPMO\" crossorigin=\"anonymous\">\n",
        "</head>\n",
        "\n",
        "<body>\n",
        "\t<div class=\"container\">\n",
        "\t\t<div class=\"panel panel-info\">\n",
        "\t\t\t<div class=\"panel-heading\">\n",
        "\t\t\t\t<h1 class=\"panel-title\">{{station_name}} ({{station_id}}) Status Over Time </h1>\n",
        "\t\t\t</div>\n",
        "\t\t\t<img class=\"center-block\" src=\"{{image}}\" />\n",
        "\t\t\t<table class=\"table table-striped table-bordered table-hover\">\n",
        "\t\t\t\t<thead>\n",
        "\t\t\t\t\t<tr>\n",
        "\t\t\t\t\t\t<!-- Construct table header -->\n",
        "\t\t\t\t\t\t<th> Time </th>\n",
        "\t\t\t\t\t\t<th> Bikes available </th>\n",
        "\t\t\t\t\t\t<th> Docks available </th>\n",
        "\t\t\t\t\t\t<th> Total docks </th>\n",
        "\t\t\t\t\t\t<th> Percent full </th>\n",
        "\t\t\t\t\t</tr>\n",
        "\t\t\t\t</thead>\n",
        "\t\t\t\t<tbody>\n",
        "\t\t\t\t\t{% for status in statuses %}\n",
        "\t\t\t\t\t<tr>\n",
        "\t\t\t\t\t\t<td>{{ status.communication_time }}</td>\n",
        "\t\t\t\t\t\t<td>{{ status.available_bikes }}</td>\n",
        "\t\t\t\t\t\t<td>{{ status.available_docks }}</td>\n",
        "\t\t\t\t\t\t<td>{{ status.capacity }}</td>\n",
        "\t\t\t\t\t\t<td>{{ status.percent_full }}</td>\n",
        "\t\t\t\t\t</tr>\n",
        "\t\t\t\t\t{% endfor %}\n",
        "\t\t\t\t</tbody>\n",
        "\t\t\t</table>\n",
        "\t\t</div>\n",
        "\t</div>\n",
        "</body>\n",
        "\n",
        "</html>\n",
        "\n",
        "```"
      ]
    }
  ]
}