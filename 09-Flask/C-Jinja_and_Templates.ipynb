{
  "nbformat": 4,
  "nbformat_minor": 0,
  "metadata": {
    "anaconda-cloud": {},
    "kernelspec": {
      "display_name": "Python 3",
      "language": "python",
      "name": "python3"
    },
    "language_info": {
      "codemirror_mode": {
        "name": "ipython",
        "version": 3
      },
      "file_extension": ".py",
      "mimetype": "text/x-python",
      "name": "python",
      "nbconvert_exporter": "python",
      "pygments_lexer": "ipython3",
      "version": "3.6.6"
    },
    "colab": {
      "name": "C-Jinja_and_Templates.ipynb",
      "provenance": [],
      "toc_visible": true
    }
  },
  "cells": [
    {
      "cell_type": "markdown",
      "metadata": {
        "id": "4GQE_iOR7TXS",
        "colab_type": "text"
      },
      "source": [
        "# Jinja Templates\n",
        "\n",
        "We now discuss how to use _data_ within our _templates_. We will be using a template engine called `Jinja` which can be installed as follows:"
      ]
    },
    {
      "cell_type": "code",
      "metadata": {
        "id": "OM0UbUhn7TXU",
        "colab_type": "code",
        "outputId": "3535d36c-b22d-48ef-a6ba-4569ea94a4e5",
        "colab": {
          "base_uri": "https://localhost:8080/",
          "height": 541
        }
      },
      "source": [
        "!pip install flask==0.12.2\n",
        "!pip install flask-ngrok\n",
        "!pip install Jinja2"
      ],
      "execution_count": 0,
      "outputs": [
        {
          "output_type": "stream",
          "text": [
            "Collecting flask==0.12.2\n",
            "\u001b[?25l  Downloading https://files.pythonhosted.org/packages/77/32/e3597cb19ffffe724ad4bf0beca4153419918e7fa4ba6a34b04ee4da3371/Flask-0.12.2-py2.py3-none-any.whl (83kB)\n",
            "\u001b[K     |████████████████████████████████| 92kB 1.6MB/s \n",
            "\u001b[?25hRequirement already satisfied: Werkzeug>=0.7 in /usr/local/lib/python3.6/dist-packages (from flask==0.12.2) (1.0.1)\n",
            "Requirement already satisfied: click>=2.0 in /usr/local/lib/python3.6/dist-packages (from flask==0.12.2) (7.1.1)\n",
            "Requirement already satisfied: Jinja2>=2.4 in /usr/local/lib/python3.6/dist-packages (from flask==0.12.2) (2.11.1)\n",
            "Requirement already satisfied: itsdangerous>=0.21 in /usr/local/lib/python3.6/dist-packages (from flask==0.12.2) (1.1.0)\n",
            "Requirement already satisfied: MarkupSafe>=0.23 in /usr/local/lib/python3.6/dist-packages (from Jinja2>=2.4->flask==0.12.2) (1.1.1)\n",
            "Installing collected packages: flask\n",
            "  Found existing installation: Flask 1.1.1\n",
            "    Uninstalling Flask-1.1.1:\n",
            "      Successfully uninstalled Flask-1.1.1\n",
            "Successfully installed flask-0.12.2\n",
            "Collecting flask-ngrok\n",
            "  Downloading https://files.pythonhosted.org/packages/af/6c/f54cb686ad1129e27d125d182f90f52b32f284e6c8df58c1bae54fa1adbc/flask_ngrok-0.0.25-py3-none-any.whl\n",
            "Requirement already satisfied: requests in /usr/local/lib/python3.6/dist-packages (from flask-ngrok) (2.21.0)\n",
            "Requirement already satisfied: Flask>=0.8 in /usr/local/lib/python3.6/dist-packages (from flask-ngrok) (0.12.2)\n",
            "Requirement already satisfied: certifi>=2017.4.17 in /usr/local/lib/python3.6/dist-packages (from requests->flask-ngrok) (2019.11.28)\n",
            "Requirement already satisfied: urllib3<1.25,>=1.21.1 in /usr/local/lib/python3.6/dist-packages (from requests->flask-ngrok) (1.24.3)\n",
            "Requirement already satisfied: chardet<3.1.0,>=3.0.2 in /usr/local/lib/python3.6/dist-packages (from requests->flask-ngrok) (3.0.4)\n",
            "Requirement already satisfied: idna<2.9,>=2.5 in /usr/local/lib/python3.6/dist-packages (from requests->flask-ngrok) (2.8)\n",
            "Requirement already satisfied: click>=2.0 in /usr/local/lib/python3.6/dist-packages (from Flask>=0.8->flask-ngrok) (7.1.1)\n",
            "Requirement already satisfied: Jinja2>=2.4 in /usr/local/lib/python3.6/dist-packages (from Flask>=0.8->flask-ngrok) (2.11.1)\n",
            "Requirement already satisfied: itsdangerous>=0.21 in /usr/local/lib/python3.6/dist-packages (from Flask>=0.8->flask-ngrok) (1.1.0)\n",
            "Requirement already satisfied: Werkzeug>=0.7 in /usr/local/lib/python3.6/dist-packages (from Flask>=0.8->flask-ngrok) (1.0.1)\n",
            "Requirement already satisfied: MarkupSafe>=0.23 in /usr/local/lib/python3.6/dist-packages (from Jinja2>=2.4->Flask>=0.8->flask-ngrok) (1.1.1)\n",
            "Installing collected packages: flask-ngrok\n",
            "Successfully installed flask-ngrok-0.0.25\n",
            "Requirement already satisfied: Jinja2 in /usr/local/lib/python3.6/dist-packages (2.11.1)\n",
            "Requirement already satisfied: MarkupSafe>=0.23 in /usr/local/lib/python3.6/dist-packages (from Jinja2) (1.1.1)\n"
          ],
          "name": "stdout"
        }
      ]
    },
    {
      "cell_type": "markdown",
      "metadata": {
        "id": "5pQLkrN_7TXb",
        "colab_type": "text"
      },
      "source": [
        "## Using Jinja for making HTML structure creation more flexible\n",
        "\n",
        "Above we have mentioned that the `render_template` function may have a list of variables with template arguments that will be put in HTML structure of a web page. \n",
        "\n",
        "Let's look at a simple example. Replace the code between `<body>` tags in `\"index.html\"` by \n",
        "\n",
        "```html\n",
        "    <h1>Hello, {{ username }}!</h1>\n",
        "    <h1>Today is {{ today }}</h1>\n",
        "```\n",
        "\n",
        "and change the `webserver.py` function to\n",
        "\n",
        "```python\n",
        "from flask import Flask, render_template\n",
        "from flask_ngrok import run_with_ngrok\n",
        "import datetime\n",
        "\n",
        "app = Flask(__name__,template_folder = '/conntent/gdrive/templates')\n",
        "run_with_ngrok(app)\n",
        "\n",
        "@app.route(\"/\")\n",
        "def home():\n",
        "    today = datetime.date.today()\n",
        "    return render_template(\"index.html\", username=\"Panos Ipeirotis\", today=today)\n",
        "\n",
        "app.run()\n",
        "```\n",
        "\n",
        "and refresh.\n",
        "\n",
        "As you may see both keys (`username` and `today`) written in `{{ }}` brackets were replaced by their values defined in the `render_template` function (`\"Panos Ipeirotis\"` and respective today's date).\n",
        "\n",
        "Under the covers, the `render_template` function invokes the [Jinja2](http://jinja.pocoo.org/) templating engine that is part of the Flask framework. Jinja2 substitutes `{{ ... }}` blocks with the corresponding values provided as template arguments.\n"
      ]
    },
    {
      "cell_type": "markdown",
      "metadata": {
        "id": "fTQRl0Nr7TXc",
        "colab_type": "text"
      },
      "source": [
        "#### Now let's start our server:\n",
        "\n",
        "\n",
        "\n",
        "```bash\n",
        "$  python3 webserver.py\n",
        "```"
      ]
    },
    {
      "cell_type": "code",
      "metadata": {
        "id": "AO4Km5xn79cT",
        "colab_type": "code",
        "outputId": "bd3baf6f-54ba-4f29-e786-02fd6cb4ee0d",
        "colab": {
          "base_uri": "https://localhost:8080/",
          "height": 34
        }
      },
      "source": [
        "from flask import Flask, render_template\n",
        "from flask_ngrok import run_with_ngrok\n",
        "import datetime\n",
        " \n",
        "app = Flask(__name__,template_folder = '/conntent/gdrive/templates')\n",
        "run_with_ngrok(app)  # Start ngrok when app is run\n",
        "\n",
        "@app.route(\"/\")\n",
        "def home():\n",
        "    today = datetime.date.today()\n",
        "    return render_template(\"index.html\", username=\"Panos Ipeirotis\", today=today)\n",
        " \n",
        "app.run()"
      ],
      "execution_count": 0,
      "outputs": [
        {
          "output_type": "stream",
          "text": [
            " * Running on http://127.0.0.1:5000/ (Press CTRL+C to quit)\n"
          ],
          "name": "stderr"
        }
      ]
    },
    {
      "cell_type": "markdown",
      "metadata": {
        "id": "9GCUD4x17TXd",
        "colab_type": "text"
      },
      "source": [
        "## Jinja iterators\n",
        "\n",
        "The Jinja2 templates also support control statements (`if - else`) and `for`-loops, given inside `{% ... %}` blocks. \n",
        "\n",
        "For example, here is a `for` loop, that displays a list of persons name and their age provided in the varaible `persons` ([HTML tags `<ul>` and  `<li>`](https://www.w3schools.com/tags/tag_li.asp) are using for lists creation in HTML structure):\n",
        "\n",
        "    Modify \"webserver.py\" file with the usual web server code, and add the following function:\n",
        "\n",
        "```python\n",
        "@app.route(\"/actors\")\n",
        "def actors():\n",
        "    persons = [\n",
        "        {\"name\": \"Robert De Niro\", \"age\": 73},\n",
        "        {\"name\": \"Leonardo DiCaprio\", \"age\": 42},\n",
        "        {\"name\": \"Tom Hanks\", \"age\": 60},\n",
        "        {\"name\": \"Tom Cruise\", \"age\": 54}\n",
        "    ]\n",
        "    return render_template('actors.html', title=\"My favorite actors\", actors=persons)\n",
        "```\n",
        "\n",
        "    And create a file in \"actors.html\" in under the `templates` folder.\n",
        "\n",
        "```html\n",
        "<body>\n",
        "    <h2>{{ title }}</h2>\n",
        "    <ul>\n",
        "        {% for i in actors %}\n",
        "        <li>Name: {{ i.name }}; age: {{ i.age }}</li>\n",
        "        {% endfor %}\n",
        "    </ul>\n",
        "</body>\n",
        "```\n",
        "\n",
        "The logic is very similar to Python's one, but pay attention that `for` loop must be closed by `endfor` clause. <br/>\n",
        "Let's demonstrate how to use `if`-statements and in the above template make bold all rows where actor is elder than 50 and underline actors who is 60 years old.\n",
        "\n",
        "```html\n",
        "<body>\n",
        "    <h2>{{ title }}</h2>\n",
        "    <ul>\n",
        "        {% for i in actors %}\n",
        "            <li>\n",
        "                {% if i.age == 60 %}\n",
        "                    <u>Name: {{ i.name }}; age: {{ i.age }}</u>\n",
        "                {% elif i.age > 50 %}\n",
        "                    <strong>Name: {{ i.name }}; age: {{ i.age }}</strong>\n",
        "                {% else %}\n",
        "                    Name: {{ i.name }}; age: {{ i.age }}\n",
        "                {% endif %}\n",
        "            </li>\n",
        "        {% endfor %}\n",
        "    </ul>\n",
        "</body>\n",
        "```\n",
        "\n",
        "Also `if`-statement should be closed by `endif` command. <br/>\n",
        "The capabilities proposing by Jinja2 usage are more wide than we have shown, but it will be absolutely enough for majority of templates creation. More information you may find [here](http://jinja.pocoo.org/docs/2.9/templates/)."
      ]
    },
    {
      "cell_type": "markdown",
      "metadata": {
        "id": "T6CQivdZ7TXe",
        "colab_type": "text"
      },
      "source": [
        "#### Now let's start our server:\n",
        "\n",
        "\n",
        "\n",
        "```bash\n",
        "$  python3 webserver.py\n",
        "```"
      ]
    },
    {
      "cell_type": "markdown",
      "metadata": {
        "id": "GWuqR2Mk7TXf",
        "colab_type": "text"
      },
      "source": [
        "### Exercise \n",
        "\n",
        "There is a list with food name and calories \n",
        "\n",
        ">```python\n",
        "food = [\n",
        "    {\"food\": \"Apple pie, 1 piece\", \"calories\": 405, \"protein\": 3, \"fat\": 18, \"carbohydrate\": 60},\n",
        "    {\"food\": \"Banana\", \"calories\": 105, \"protein\": 1, \"fat\": 0, \"carbohydrate\": 27},  \n",
        "    {\"food\": \"Beaf steak\", \"calories\": 240, \"protein\": 23, \"fat\": 15, \"carbohydrate\": 0},\n",
        "    {\"food\": \"Carrot\", \"calories\": 30, \"protein\": 1, \"fat\": 0, \"carbohydrate\": 7},\n",
        "    {\"food\": \"Chicken soup, 1 cup\", \"calories\": 60, \"protein\": 4, \"fat\": 2, \"carbohydrate\": 7}\n",
        "]\n",
        "```\n",
        "\n",
        "Using ONLY Jinja2 template syntax display at the new page http://your_ip:5000/food the list of foods. Feel free to add conditional formatting, eg  when the number of calories exceeds a limit.\n",
        "\n",
        "**Hint:** You need to create a new HTML template and a new view function in `\"webserver.py\"` and set fot it the respective URL."
      ]
    },
    {
      "cell_type": "code",
      "metadata": {
        "id": "xoheCvAJ7TXg",
        "colab_type": "code",
        "colab": {}
      },
      "source": [
        ""
      ],
      "execution_count": 0,
      "outputs": []
    }
  ]
}